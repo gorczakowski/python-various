{
 "cells": [
  {
   "cell_type": "code",
   "execution_count": 1,
   "metadata": {},
   "outputs": [
    {
     "output_type": "stream",
     "name": "stdout",
     "text": "[0, 1, 1, 16, 25, 36]\n"
    }
   ],
   "source": [
    "def sqsort(input_arr):\n",
    "    new_arr = []\n",
    "    for i in range(len(input_arr)):\n",
    "        if abs(input_arr[0]) > input_arr[-1]:\n",
    "            new_arr.insert(0, input_arr.pop(0)**2)\n",
    "        else:\n",
    "            new_arr.insert(0, input_arr.pop()**2)\n",
    "    return new_arr\n",
    "\n",
    "arr = [-4, -1, 0, 1, 5, 6]\n",
    "\n",
    "print(sqsort(arr))"
   ]
  },
  {
   "cell_type": "code",
   "execution_count": 2,
   "metadata": {},
   "outputs": [
    {
     "output_type": "stream",
     "name": "stdout",
     "text": "[135, 27, 45, 15]\n[135, 27, 45, 15]\n[135, 27, 45, 15]\n[135, 27, 45, 15]\n"
    }
   ],
   "source": [
    "def prodexself(arr):\n",
    "    prod = 1\n",
    "    for i in arr:\n",
    "        prod *= i\n",
    "    new_arr = [int(prod/i) for i in arr]\n",
    "    return new_arr\n",
    "\n",
    "def prodexself2(arr):\n",
    "    def left(arr, i):\n",
    "        if i == 0:\n",
    "            return 1\n",
    "        else:\n",
    "            return arr[i-1] * left(arr, i-1)\n",
    "    \n",
    "    def right(arr, i):\n",
    "        if i == len(arr)-1:\n",
    "            return 1\n",
    "        else:\n",
    "            return arr[i+1] * right(arr, i+1)\n",
    "    \n",
    "    prod_left = [left(arr, i) for i in range(len(arr))]\n",
    "    prod_right = [right(arr, i) for i in range(len(arr))]\n",
    "    new_arr = [prod_left[i] * prod_right[i] for i in range(len(arr))]\n",
    "    return new_arr\n",
    "\n",
    "def prodexself3(arr):\n",
    "    prod_left = [1]\n",
    "    prod_right = [1]\n",
    "    for i in range(len(arr)-1):\n",
    "        prod_left.append(prod_left[i] * arr[i])\n",
    "        prod_right.insert(0, prod_right[0] * arr[len(arr)-1-i])\n",
    "    new_arr = [prod_left[i] * prod_right[i] for i in range(len(arr))]\n",
    "    return new_arr\n",
    "\n",
    "def prodexself4(arr):\n",
    "    length = len(arr)\n",
    "    new_arr = [1] * length\n",
    "    prod = 1\n",
    "    for i in range(length-1):\n",
    "        new_arr[i+1] = new_arr[i] * arr[i]\n",
    "    for i in range(length):\n",
    "        new_arr[-1-i] = new_arr[-1-i] * prod\n",
    "        prod *= arr[-1-i]\n",
    "    return new_arr\n",
    "\n",
    "inp = [1, 5, 3, 9]\n",
    "\n",
    "print(prodexself(inp))\n",
    "print(prodexself2(inp))\n",
    "print(prodexself3(inp))\n",
    "print(prodexself4(inp))"
   ]
  },
  {
   "cell_type": "code",
   "execution_count": 3,
   "metadata": {},
   "outputs": [
    {
     "output_type": "stream",
     "name": "stdout",
     "text": "[1, 5]\n[1, 5]\n"
    }
   ],
   "source": [
    "def findsub(arr, summ):\n",
    "    rang = -1\n",
    "    for i in range(len(arr)):\n",
    "        wsum = 0\n",
    "        for ix in range(i, len(arr)):\n",
    "            wsum += arr[ix]\n",
    "            if wsum == summ:\n",
    "                if rang == -1:\n",
    "                    rang = [i+1, ix+1]\n",
    "                elif (ix - i) > (rang[1] - rang[0]):\n",
    "                    rang = [i+1, ix+1]\n",
    "            elif wsum > summ:\n",
    "                break\n",
    "    return rang\n",
    "\n",
    "def findsub2(arr, summ):\n",
    "    rang = -1\n",
    "    wsum = 0\n",
    "    ix = 0\n",
    "    for i in range(len(arr)):\n",
    "        if wsum <= summ:\n",
    "            wsum += arr[i]\n",
    "        while wsum > summ:\n",
    "            wsum -= arr[ix]\n",
    "            ix += 1\n",
    "        if wsum == summ:\n",
    "            if rang == -1:\n",
    "                rang = [ix+1, i+1]\n",
    "            elif (i - ix) > (rang[1] - rang[0]):\n",
    "                rang = [ix+1, i+1]\n",
    "    return rang\n",
    "\n",
    "arr = [1, 2, 3, 4, 5, 6, 7, 8, 9, 10]\n",
    "summ = 15\n",
    "\n",
    "print(findsub(arr, summ))\n",
    "print(findsub2(arr, summ))"
   ]
  },
  {
   "cell_type": "code",
   "execution_count": 4,
   "metadata": {},
   "outputs": [
    {
     "output_type": "stream",
     "name": "stdout",
     "text": "7\n7\n7\n"
    }
   ],
   "source": [
    "def maxsubsum(arr):\n",
    "    sums = []\n",
    "    for i in range(len(arr)):\n",
    "        for j in range(i, len(arr)):\n",
    "            sums.append(sum(arr[i:j]))\n",
    "    return max(sums)\n",
    "\n",
    "def maxsubsum2(arr):\n",
    "    warr = []\n",
    "    wsum = 0\n",
    "    maxsum = 0\n",
    "    for i in range(len(arr)):\n",
    "        warr.append(arr[i])\n",
    "        wsum = sum(warr)\n",
    "        if arr[i] > wsum:\n",
    "            warr.clear()\n",
    "            warr.append(arr[i])\n",
    "            wsum = arr[i]\n",
    "        if wsum > maxsum:\n",
    "            maxsum = wsum\n",
    "    return maxsum\n",
    "\n",
    "def maxsubsum3(arr):\n",
    "    wsum = arr[0]\n",
    "    maxsum = wsum\n",
    "    for i in range(len(arr)-1):\n",
    "        wsum = max(wsum + arr[i+1], arr[i+1])\n",
    "        maxsum = max(maxsum, wsum)\n",
    "    return maxsum\n",
    "\n",
    "inp = [-2, 2, 5, -11, 6]\n",
    "\n",
    "print(maxsubsum(inp))\n",
    "print(maxsubsum2(inp))\n",
    "print(maxsubsum3(inp))"
   ]
  },
  {
   "cell_type": "code",
   "execution_count": 5,
   "metadata": {},
   "outputs": [
    {
     "output_type": "stream",
     "name": "stdout",
     "text": "True\nTrue\n"
    }
   ],
   "source": [
    "def sumtwo(a, b, v):\n",
    "    for i in a:\n",
    "        for j in b:\n",
    "            if i+j == v:\n",
    "                return True\n",
    "    return False\n",
    "\n",
    "def sumtwo2(a, b, v):\n",
    "    resta = {v-i for i in a}\n",
    "    for j in b:\n",
    "        if j in resta:\n",
    "            return True\n",
    "    return False\n",
    "\n",
    "arra = [0, 0, -5, 30212]\n",
    "arrb = [-10, 40, -3, 9]\n",
    "v = -8\n",
    "\n",
    "print(sumtwo(arra, arrb, v))\n",
    "print(sumtwo2(arra, arrb, v))"
   ]
  },
  {
   "cell_type": "code",
   "execution_count": 6,
   "metadata": {},
   "outputs": [
    {
     "output_type": "stream",
     "name": "stdout",
     "text": "b\nb\n"
    }
   ],
   "source": [
    "from collections import Counter\n",
    "\n",
    "def firstnon(arr):\n",
    "    strset = Counter(i for i in arr)\n",
    "    for i in arr:\n",
    "        if strset[i] == 1:\n",
    "            return i\n",
    "    return '_'\n",
    "\n",
    "def firstnon2(arr):\n",
    "    strdict = {}\n",
    "    for i in arr:\n",
    "        if i in strdict:\n",
    "            strdict[i] += 1\n",
    "        else:\n",
    "            strdict[i] = 1\n",
    "    for i in arr:\n",
    "        if strdict[i] == 1:\n",
    "            return i\n",
    "    return '_'\n",
    "\n",
    "ar = \"aaabcccdeeef\"\n",
    "arr = \"abcbad\"\n",
    "arrr = \"abcabcabc\"\n",
    "\n",
    "print(firstnon(ar))\n",
    "print(firstnon2(ar))"
   ]
  }
 ],
 "metadata": {
  "language_info": {
   "codemirror_mode": {
    "name": "ipython",
    "version": 3
   },
   "file_extension": ".py",
   "mimetype": "text/x-python",
   "name": "python",
   "nbconvert_exporter": "python",
   "pygments_lexer": "ipython3",
   "version": "3.8.2-final"
  },
  "orig_nbformat": 2,
  "kernelspec": {
   "name": "python3",
   "display_name": "Python 3"
  }
 },
 "nbformat": 4,
 "nbformat_minor": 2
}