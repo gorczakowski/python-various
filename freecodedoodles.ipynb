{
 "metadata": {
  "language_info": {
   "codemirror_mode": {
    "name": "ipython",
    "version": 3
   },
   "file_extension": ".py",
   "mimetype": "text/x-python",
   "name": "python",
   "nbconvert_exporter": "python",
   "pygments_lexer": "ipython3",
   "version": "3.7.6-final"
  },
  "orig_nbformat": 2,
  "kernelspec": {
   "name": "python3",
   "display_name": "Python 3",
   "language": "python"
  }
 },
 "nbformat": 4,
 "nbformat_minor": 2,
 "cells": [
  {
   "cell_type": "code",
   "execution_count": 1,
   "metadata": {},
   "outputs": [
    {
     "output_type": "stream",
     "name": "stdout",
     "text": [
      "Hello John\n"
     ]
    }
   ],
   "source": [
    "print('Hello', input())"
   ]
  },
  {
   "cell_type": "code",
   "execution_count": 2,
   "metadata": {},
   "outputs": [
    {
     "output_type": "stream",
     "name": "stdout",
     "text": [
      "HTTP/1.1 200 OK\nDate: Mon, 28 Dec 2020 00:15:23 GMT\nServer: Apache/2.4.18 (Ubuntu)\nLast-Modified: Sat, 13 May 2017 11:22:22 GMT\nETag: \"a7-54f6609245537\"\nAccept-Ranges: bytes\nContent-Length: 167\nCache-Control: max-age=0, no-cache, no-store, must-revalidate\nPragma: no-cache\nExpires: Wed, 11 Jan 1984 05:00:00 GMT\nConnection: close\nContent-Type: text/plain\n\nBut soft what light through yonder window breaks\nIt is the east and Juliet is the sun\nArise fair sun and kill the envious moon\nWho is already sick and pale with grief\n"
     ]
    }
   ],
   "source": [
    "import socket\n",
    "\n",
    "mysock = socket.socket(socket.AF_INET, socket.SOCK_STREAM)\n",
    "mysock.connect(('data.pr4e.org', 80))\n",
    "cmd = 'GET http://data.pr4e.org/romeo.txt HTTP/1.0\\r\\n\\r\\n'.encode()\n",
    "mysock.send(cmd)\n",
    "\n",
    "while True:\n",
    "    data = mysock.recv(512)\n",
    "    if len(data) < 1:\n",
    "        break\n",
    "    print(data.decode(),end='')\n",
    "mysock.close()"
   ]
  },
  {
   "cell_type": "code",
   "execution_count": 3,
   "metadata": {},
   "outputs": [
    {
     "output_type": "execute_result",
     "data": {
      "text/plain": [
       "[1, 3, 5, 4, 2]"
      ]
     },
     "metadata": {},
     "execution_count": 3
    }
   ],
   "source": [
    "x = [5,2,1,3,4]\n",
    "# 4,2,5,1,3\n",
    "x = [4,3,5,1,2]\n",
    "# 1,3,5,4,2\n",
    "[x.index(j) + 1 for j in [x.index(i) + 1 for i in range(1, len(x) + 1)]]"
   ]
  },
  {
   "cell_type": "code",
   "execution_count": 4,
   "metadata": {},
   "outputs": [
    {
     "output_type": "stream",
     "name": "stdout",
     "text": [
      "  32         1      9999      523\n+  8    - 3801    + 9999    -  49\n----    ------    ------    -----\n  40     -3800     19998      474\n"
     ]
    }
   ],
   "source": [
    "a = [\"32 + 8\", \"1 - 3801\", \"9999 + 9999\", \"523 - 49\"]\n",
    "\n",
    "def fun(arr, answers=False):\n",
    "    arr = [x.split() for x in arr]\n",
    "    output = ['','','','']\n",
    "    if len(arr) > 5:\n",
    "        return 'Error: Too many problems.'\n",
    "    for prob in arr:\n",
    "        a, op, b = prob\n",
    "        ans = None\n",
    "        l = max(len(a), len(b)) + 2\n",
    "\n",
    "        if op in '*/':\n",
    "            return \"Error: Operator must be '+' or '-'.\"\n",
    "        if l > 6:\n",
    "            return 'Error: Numbers cannot be more than four digits.'\n",
    "        try:\n",
    "            if op == '+':\n",
    "                ans = int(a) + int(b)\n",
    "            elif op == '-':\n",
    "                ans = int(a) - int(b)\n",
    "        except:\n",
    "            return 'Error: Numbers must only contain digits.'\n",
    "\n",
    "        output[0] += f'{a:>{l}}    '\n",
    "        output[1] += f'{op} {b:>{l-2}}    '\n",
    "        output[2] += l * '-' + '    '\n",
    "        output[3] += f'{ans:>{l}}    '\n",
    "\n",
    "    for i in range(answers*4 or 3):\n",
    "        print(output[i][:-4])\n",
    "    \n",
    "fun(a, True)"
   ]
  },
  {
   "cell_type": "code",
   "execution_count": 5,
   "metadata": {},
   "outputs": [
    {
     "output_type": "execute_result",
     "data": {
      "text/plain": [
       "'12:03 PM'"
      ]
     },
     "metadata": {},
     "execution_count": 5
    }
   ],
   "source": [
    "def add_time(start, duration, startday=None):\n",
    "    start_time, ampm = start.split()\n",
    "    start_hr, start_min = list(map(int, start_time.split(':')))\n",
    "    dur_hr, dur_min = list(map(int, duration.split(':')))\n",
    "    if ampm.lower() == 'pm' and start_hr != 12:\n",
    "        start_hr += 12\n",
    "    elif ampm.lower() == 'am' and start_hr == 12:\n",
    "        start_hr = 0\n",
    "    start_time = 60 * start_hr + start_min\n",
    "    duration = 60 * dur_hr + dur_min\n",
    "\n",
    "    end_time = start_time + duration\n",
    "\n",
    "    n = end_time // (24 * 60)\n",
    "    end_time = end_time % (24 * 60)\n",
    "    end_hr = end_time // 60 % 12 or 12\n",
    "    end_min = end_time % 60\n",
    "\n",
    "    if end_time in range(12*60):\n",
    "        ampm = 'AM'\n",
    "    else:\n",
    "        ampm = 'PM'\n",
    "\n",
    "    if startday:\n",
    "        days_of_week = ['monday', 'tuesday', 'wednesday', 'thursday', 'friday', 'saturday', 'sunday']\n",
    "        startday = days_of_week.index(startday.lower())\n",
    "        startday = f', {days_of_week[(n + startday) % 7].capitalize()}'\n",
    "\n",
    "    if n > 0:\n",
    "        if n == 1:\n",
    "            n = ' (next day)'\n",
    "        else:\n",
    "            n = f' ({n} days later)'\n",
    "\n",
    "    new_time = f'{end_hr}:{end_min:02} {ampm}' + bool(startday) * str(startday) + bool(n) * str(n)\n",
    "\n",
    "    return new_time\n",
    "\n",
    "add_time(\"11:43 AM\", \"00:20\")"
   ]
  },
  {
   "cell_type": "code",
   "execution_count": 6,
   "metadata": {},
   "outputs": [],
   "source": [
    "class Category:\n",
    "    def __init__(self, name):\n",
    "        self.name = name\n",
    "        self.ledger = []\n",
    "\n",
    "    def deposit(self, amount, desc=''):\n",
    "        self.ledger.append({'amount': amount, 'description': desc})\n",
    "\n",
    "    def get_balance(self):\n",
    "        return sum([op['amount'] for op in self.ledger])\n",
    "\n",
    "    def check_funds(self, amount):\n",
    "        return self.get_balance() > amount\n",
    "\n",
    "    def withdraw(self, amount, desc=''):\n",
    "        if self.check_funds(amount):\n",
    "            self.ledger.append({'amount': -amount, 'description': desc})\n",
    "            return True\n",
    "        else:\n",
    "            return False\n",
    "\n",
    "    def transfer(self, amount, other_cat):\n",
    "        if self.withdraw(amount, f'Transfer to {other_cat.name}'):\n",
    "            other_cat.deposit(amount, f'Transfer from {self.name}')\n",
    "            return True\n",
    "        else:\n",
    "            return False\n",
    "\n",
    "    def __repr__(self):\n",
    "        output = f'{self.name:*^30}\\n'\n",
    "        for op in self.ledger:\n",
    "            desc = f'{op[\"description\"]:<23}'[:23]\n",
    "            amount = f'{op[\"amount\"]:>7.2f}'[:7]\n",
    "            output += desc + amount + '\\n'\n",
    "        output += f'Total: {self.get_balance():.2f}'\n",
    "        return output\n",
    "\n",
    "\n",
    "def create_spend_chart(categories):\n",
    "    names, spent = [], []\n",
    "    for cat in categories:\n",
    "        names.append(cat.name)\n",
    "        spent.append(-sum([op['amount'] for op in cat.ledger if op['amount'] < 0]))\n",
    "    l = max([len(n) for n in names])\n",
    "    names = [f'{name:<{l}}' for name in names]\n",
    "    spent = [int(amount / sum(spent) // 0.1) * 'o' + 'o-' for amount in spent]\n",
    "    spent = [f'{os:>12}' for os in spent]\n",
    "    cols = [a+b for a,b in list(zip(spent, names))]\n",
    "    cols = list(map(list, zip(*cols)))\n",
    "\n",
    "    scale = [f'{num:3}|' for num in range(100,-1,-10)] + (l+1)*[4*' ']\n",
    "    fill = 11*' ' + '-' + l * ' '\n",
    "\n",
    "    print('Percentage spent by category')\n",
    "    for i in range(len(scale)):\n",
    "        a = fill[i]\n",
    "        line = scale[i] + a + (2*a).join(cols[i]) + 2*a\n",
    "        print(line)\n",
    "\n"
   ]
  },
  {
   "cell_type": "code",
   "execution_count": 7,
   "metadata": {},
   "outputs": [
    {
     "output_type": "stream",
     "name": "stdout",
     "text": [
      "Percentage spent by category\n100|       \n 90|       \n 80|       \n 70|       \n 60|       \n 50|    o  \n 40| o  o  \n 30| o  o  \n 20| o  o  \n 10| o  o  \n  0| o  o  \n    -------\n     f  c  \n     o  l  \n     o  o  \n     d  t  \n        h  \n        e  \n        s  \n"
     ]
    }
   ],
   "source": [
    "food = Category('food')\n",
    "food.deposit(990, 'sdfsnejkewjfwehf')\n",
    "food.withdraw(50, 'drink')\n",
    "food.withdraw(50, 'drink')\n",
    "\n",
    "clothes = Category('clothes')\n",
    "clothes.deposit(990, 'sdfsnejkewjfwehf')\n",
    "clothes.withdraw(60, 'drink')\n",
    "clothes.withdraw(80, 'drink')\n",
    "\n",
    "create_spend_chart([food, clothes])\n"
   ]
  },
  {
   "cell_type": "code",
   "execution_count": 8,
   "metadata": {},
   "outputs": [
    {
     "output_type": "stream",
     "name": "stdout",
     "text": [
      "50\n26\nRectangle(width=10, height=3)\n**********\n**********\n**********\n\n81\n5.656854249492381\nSquare(side=4)\n****\n****\n****\n****\n\n8\n"
     ]
    }
   ],
   "source": [
    "class Rectangle:\n",
    "    def __init__(self, width, height):\n",
    "        self.width = width\n",
    "        self.height = height\n",
    "    \n",
    "    def set_width(self, width):\n",
    "        self.width = width\n",
    "    \n",
    "    def set_height(self, height):\n",
    "        self.height = height\n",
    "\n",
    "    def get_area(self):\n",
    "        return self.width * self.height\n",
    "\n",
    "    def get_perimeter(self):\n",
    "        return 2*self.width + 2*self.height\n",
    "    \n",
    "    def get_diagonal(self):\n",
    "        return (self.width ** 2 + self.height ** 2) ** .5\n",
    "\n",
    "    def get_picture(self):\n",
    "        if max(self.width, self.height) > 50:\n",
    "            return 'Too big for picture.'\n",
    "        else:\n",
    "            output = ''\n",
    "            for i in range(self.height):\n",
    "                output += self.width * '*' + '\\n'\n",
    "            return output\n",
    "\n",
    "    def get_amount_inside(self, other):\n",
    "        return (self.width // other.width) * (self.height // other.height)\n",
    "\n",
    "    def __repr__(self):\n",
    "        return f'Rectangle(width={self.width}, height={self.height})'\n",
    "\n",
    "class Square(Rectangle):\n",
    "    def set_side(self, side):\n",
    "        self.width = side\n",
    "        self.height = side\n",
    "\n",
    "    def __init__(self, side):\n",
    "        self.set_side(side)\n",
    "\n",
    "    def set_width(self, side):\n",
    "        self.set_side(side)\n",
    "    \n",
    "    def set_height(self, side):\n",
    "        self.set_side(side)\n",
    "\n",
    "    def __repr__(self):\n",
    "        return f'Square(side={self.width})'\n",
    "\n",
    "rect = Rectangle(10, 5)\n",
    "print(rect.get_area())\n",
    "rect.set_height(3)\n",
    "print(rect.get_perimeter())\n",
    "print(rect)\n",
    "print(rect.get_picture())\n",
    " \n",
    "sq = Square(9)\n",
    "print(sq.get_area())\n",
    "sq.set_side(4)\n",
    "print(sq.get_diagonal())\n",
    "print(sq)\n",
    "print(sq.get_picture())\n",
    " \n",
    "rect.set_height(8)\n",
    "rect.set_width(16)\n",
    "print(rect.get_amount_inside(sq))"
   ]
  },
  {
   "cell_type": "code",
   "execution_count": 9,
   "metadata": {},
   "outputs": [
    {
     "output_type": "execute_result",
     "data": {
      "text/plain": [
       "0.3835"
      ]
     },
     "metadata": {},
     "execution_count": 9
    }
   ],
   "source": [
    "import copy\n",
    "import random\n",
    "# Consider using the modules imported above.\n",
    "from collections import Counter\n",
    "\n",
    "class Hat:\n",
    "    def __init__(self, **kwargs):\n",
    "        self.contents = []\n",
    "        for k,v in kwargs.items():\n",
    "            self.contents += v*[k]\n",
    "\n",
    "    def draw(self, number):\n",
    "        if number > len(self.contents):\n",
    "            number = len(self.contents)\n",
    "        output = random.sample(self.contents, number)\n",
    "        for item in output:\n",
    "            self.contents.remove(item)\n",
    "        return output\n",
    "\n",
    "\n",
    "def experiment(hat, expected_balls, num_balls_drawn, num_experiments):\n",
    "    success = 0\n",
    "    for i in range(num_experiments):\n",
    "        copyhat = copy.deepcopy(hat)\n",
    "        drawn = Counter(copyhat.draw(num_balls_drawn))\n",
    "        if all([drawn[key] >= expected_balls[key] for key in expected_balls]):\n",
    "            success += 1\n",
    "    return success / num_experiments\n",
    "\n",
    "\n",
    "hat1 = Hat(red=5, orange=4, black=1, blue=0, pink=2, striped=9)\n",
    "Counter(hat1.draw(18))\n",
    "# hat1.contents\n",
    "\n",
    "hat = Hat(black=6, red=4, green=3)\n",
    "probability = experiment(hat=hat, \n",
    "                  expected_balls={\"red\":2,\"green\":1},\n",
    "                  num_balls_drawn=5,\n",
    "                  num_experiments=2000)\n",
    "probability"
   ]
  },
  {
   "cell_type": "code",
   "execution_count": null,
   "metadata": {},
   "outputs": [],
   "source": []
  }
 ]
}