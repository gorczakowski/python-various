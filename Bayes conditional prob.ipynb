{
 "metadata": {
  "language_info": {
   "codemirror_mode": {
    "name": "ipython",
    "version": 3
   },
   "file_extension": ".py",
   "mimetype": "text/x-python",
   "name": "python",
   "nbconvert_exporter": "python",
   "pygments_lexer": "ipython3",
   "version": "3.7.6-final"
  },
  "orig_nbformat": 2,
  "kernelspec": {
   "name": "python3",
   "display_name": "Python 3"
  }
 },
 "nbformat": 4,
 "nbformat_minor": 2,
 "cells": [
  {
   "source": [
    "## Conditional probability with Bayes\n",
    "\n",
    "This class calculates the posterior P(A|B), given likelihood P(B|A), prior P(A) and (marginal P(B) or true_negative rate P(~B|~A)).\n",
    "\n",
    "Can also update the posterior given new evidence (true or false)."
   ],
   "cell_type": "markdown",
   "metadata": {}
  },
  {
   "cell_type": "code",
   "execution_count": 1,
   "metadata": {},
   "outputs": [],
   "source": [
    "\n",
    "class Bayes():\n",
    "    def __init__(self, likelihood, prior, marginal=None, true_negative=None):\n",
    "        self.likelihood = likelihood\n",
    "        self.prior = prior\n",
    "        self.posterior = self.prior\n",
    "        \n",
    "        if true_negative:\n",
    "            self.true_negative = true_negative\n",
    "            self.__calc_marginal()\n",
    "        else:\n",
    "            self.marginal = marginal\n",
    "            self.true_negative = 1 - (self.marginal - self.likelihood * self.prior) / (1 - self.prior)\n",
    "\n",
    "    def __calc_marginal(self):\n",
    "        self.marginal = self.prior * self.likelihood + (1 - self.prior) * (1 - self.true_negative)\n",
    "\n",
    "    def update_true(self):\n",
    "        self.posterior = self.likelihood * self.prior / self.marginal\n",
    "        self.prior = self.posterior\n",
    "        self.__calc_marginal()\n",
    "\n",
    "    def update_false(self):\n",
    "        self.posterior = 1 - self.true_negative * (1 - self.prior) / (1 - self.marginal)\n",
    "        self.prior = self.posterior\n",
    "        self.__calc_marginal()\n",
    "\n",
    "    def prob_true(self):\n",
    "        return self.posterior\n",
    "\n",
    "    def prob_false(self):\n",
    "        return 1 - self.posterior\n"
   ]
  },
  {
   "cell_type": "code",
   "execution_count": null,
   "metadata": {},
   "outputs": [],
   "source": []
  },
  {
   "cell_type": "code",
   "execution_count": null,
   "metadata": {},
   "outputs": [],
   "source": []
  },
  {
   "source": [
    "### Example\n",
    "\n",
    "John has tested positive for COVID-19. Based on the virus reproduction rate, scientists estimate that around 10% of the population is infected with the virus. \n",
    "\n",
    "The test has 90% true positive rate and 5% false negative rate (95% true negative).\n"
   ],
   "cell_type": "markdown",
   "metadata": {}
  },
  {
   "cell_type": "code",
   "execution_count": 2,
   "metadata": {},
   "outputs": [
    {
     "output_type": "stream",
     "name": "stdout",
     "text": [
      "After 1 positive test\nProbablity of having the virus:  0.6666666666666664\nProbablity of NOT having the virus:  0.3333333333333336\n"
     ]
    }
   ],
   "source": [
    "estimate_pop = 0.1\n",
    "true_pos = 0.9\n",
    "true_neg = 0.95\n",
    "\n",
    "John_has_covid = Bayes(likelihood=true_pos, prior=estimate_pop, true_negative=true_neg)\n",
    "\n",
    "# John tests positive\n",
    "John_has_covid.update_true()\n",
    "\n",
    "print('After 1 positive test')\n",
    "print('Probablity of having the virus: ', John_has_covid.prob_true())\n",
    "print('Probablity of NOT having the virus: ', John_has_covid.prob_false())\n"
   ]
  },
  {
   "cell_type": "code",
   "execution_count": 3,
   "metadata": {},
   "outputs": [
    {
     "output_type": "stream",
     "name": "stdout",
     "text": [
      "After 1 positive and 1 negative result\nProbablity of having the virus:  0.17391304347826075\nProbablity of NOT having the virus:  0.8260869565217392\n"
     ]
    }
   ],
   "source": [
    "# John tests negative in a second test\n",
    "John_has_covid.update_false()\n",
    "\n",
    "print('After 1 positive and 1 negative result')\n",
    "print('Probablity of having the virus: ', John_has_covid.prob_true())\n",
    "print('Probablity of NOT having the virus: ', John_has_covid.prob_false())"
   ]
  },
  {
   "cell_type": "code",
   "execution_count": null,
   "metadata": {},
   "outputs": [],
   "source": []
  },
  {
   "cell_type": "code",
   "execution_count": null,
   "metadata": {},
   "outputs": [],
   "source": []
  },
  {
   "source": [
    "### Example\n",
    "\n",
    "In a desert area there are only around 10 rainy days in a year. The weather forecast success rate is 90% when predicting if a given day will be either a sunny or a rainy one."
   ],
   "cell_type": "markdown",
   "metadata": {}
  },
  {
   "cell_type": "code",
   "execution_count": 4,
   "metadata": {},
   "outputs": [
    {
     "output_type": "stream",
     "name": "stdout",
     "text": [
      "Chance of rain when not looking at the forecast\nProbablity of rain:  0.0273972602739726\nProbablity of NO rain:  0.9726027397260274\n"
     ]
    }
   ],
   "source": [
    "avg_rainy_days = 10 / 365\n",
    "rainy_if_forecast = 0.9\n",
    "sunny_if_forecast = 0.9\n",
    "\n",
    "will_it_rain = Bayes(likelihood=rainy_if_forecast, prior=avg_rainy_days, true_negative=sunny_if_forecast)\n",
    "\n",
    "print('Chance of rain when not looking at the forecast')\n",
    "print('Probablity of rain: ', will_it_rain.prob_true())\n",
    "print('Probablity of NO rain: ', will_it_rain.prob_false())\n"
   ]
  },
  {
   "cell_type": "code",
   "execution_count": 5,
   "metadata": {},
   "outputs": [
    {
     "output_type": "stream",
     "name": "stdout",
     "text": [
      "Chance of rain given the rainy forecast\nProbablity of rain:  0.202247191011236\nProbablity of NO rain:  0.797752808988764\n"
     ]
    }
   ],
   "source": [
    "# Weather forecast said it will rain tomorrow\n",
    "will_it_rain.update_true()\n",
    "\n",
    "print('Chance of rain given the rainy forecast')\n",
    "print('Probablity of rain: ', will_it_rain.prob_true())\n",
    "print('Probablity of NO rain: ', will_it_rain.prob_false())"
   ]
  }
 ]
}